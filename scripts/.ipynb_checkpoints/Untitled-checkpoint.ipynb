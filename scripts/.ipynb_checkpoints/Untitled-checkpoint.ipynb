{
 "cells": [
  {
   "cell_type": "code",
   "execution_count": 75,
   "metadata": {},
   "outputs": [],
   "source": [
    "import requests\n",
    "import os\n",
    "import sys\n",
    "import time\n",
    "import csv\n",
    "from selenium import webdriver\n",
    "from collections import defaultdict"
   ]
  },
  {
   "cell_type": "code",
   "execution_count": 76,
   "metadata": {},
   "outputs": [],
   "source": [
    "hamilton_cases_zipcode_url = 'https://www.hamiltoncountyhealth.org/covid19/'\n",
    "# chrome driver should be in the PATH\n",
    "driver = webdriver.Chrome()"
   ]
  },
  {
   "cell_type": "code",
   "execution_count": 77,
   "metadata": {},
   "outputs": [],
   "source": [
    "driver.get(hamilton_cases_zipcode_url)\n",
    "time.sleep(3)"
   ]
  },
  {
   "cell_type": "code",
   "execution_count": 78,
   "metadata": {},
   "outputs": [],
   "source": [
    "update_info = driver.find_element_by_xpath(\"//*[contains(text(), 'Updated')]\").text\n",
    "update_date = update_info.strip('.').split()[-1]\n",
    "update_date_element = update_date.split('/')\n",
    "processed_update_date_element = []\n",
    "for e in update_date_element:\n",
    "    if len(e) == 1:\n",
    "        e = '0' + e\n",
    "    processed_update_date_element.append(e)\n",
    "processed_update_date = '/'.join(processed_update_date_element)"
   ]
  },
  {
   "cell_type": "code",
   "execution_count": 92,
   "metadata": {},
   "outputs": [],
   "source": [
    "# odd elements are zip codes, even elements are cases\n",
    "cases_zipcode = {}\n",
    "raw_cases_zipcode = driver.find_element_by_tag_name('table').text.split()[4:]\n",
    "for i in range(0, len(raw_cases_zipcode), 2):\n",
    "    cases_zipcode[raw_cases_zipcode[i]] = raw_cases_zipcode[i+1]"
   ]
  },
  {
   "cell_type": "code",
   "execution_count": 93,
   "metadata": {},
   "outputs": [],
   "source": [
    "# combine with original data\n",
    "orig_data_file = '../processed_data/cases/US/hamilton-county_cases.csv'\n",
    "data = defaultdict(list)\n",
    "with open(orig_data_file, 'r') as csvfile:\n",
    "    reader = csv.reader(csvfile, delimiter=',')\n",
    "    for row in reader:\n",
    "        if row[0] == '':\n",
    "            data['date'] += row[1:]\n",
    "        else:\n",
    "            data[row[0]] += row[1:]"
   ]
  },
  {
   "cell_type": "code",
   "execution_count": 94,
   "metadata": {},
   "outputs": [],
   "source": [
    "if processed_update_date in data['date']:\n",
    "    sys.exit('Data of this date has been updated.')\n",
    "\n",
    "for zipcode, cases in cases_zipcode.items():\n",
    "    data[zipcode].append(cases)\n",
    "data['date'].append(processed_update_date)\n",
    "for key in data:\n",
    "    if len(data[key]) != len(data['date']):\n",
    "        data[key].append('NA')"
   ]
  },
  {
   "cell_type": "code",
   "execution_count": 97,
   "metadata": {},
   "outputs": [],
   "source": [
    "with open(orig_data_file, 'w') as csvfile:\n",
    "    writer = csv.writer(csvfile, delimiter=',')\n",
    "    writer.writerow([''] + data['date'])\n",
    "    for key in sorted(data.keys()):\n",
    "        if key != 'date':\n",
    "            writer.writerow([key] + data[key])"
   ]
  }
 ],
 "metadata": {
  "kernelspec": {
   "display_name": "Python 3",
   "language": "python",
   "name": "python3"
  },
  "language_info": {
   "codemirror_mode": {
    "name": "ipython",
    "version": 3
   },
   "file_extension": ".py",
   "mimetype": "text/x-python",
   "name": "python",
   "nbconvert_exporter": "python",
   "pygments_lexer": "ipython3",
   "version": "3.7.4"
  }
 },
 "nbformat": 4,
 "nbformat_minor": 4
}
